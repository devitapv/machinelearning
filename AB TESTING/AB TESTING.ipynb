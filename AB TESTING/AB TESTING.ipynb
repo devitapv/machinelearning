{
 "cells": [
  {
   "cell_type": "markdown",
   "metadata": {},
   "source": [
    "## A/B Testing\n",
    "\n",
    "A/B testing adalah metode yang digunakan untuk membandingkan dua jenis atau lebih dari sebuah tampilan aplikasi, baik itu web, android, maupun aplikasi lainnya sehingga dapat digunakan untuk menentukan jenis mana yang lebih unggul."
   ]
  },
  {
   "cell_type": "markdown",
   "metadata": {},
   "source": [
    "Project ini akan membantu perusahaan e-commerce dalam memahami apakah perusahaan perlu mengimplementasikan halaman baru, mempertahankan halaman lama, atau menjalankan eksperimen lebih lama untuk menentukan suatu keputusan. </br>\n",
    "A/B testing dilakukan sebagai salah satu upaya untuk meningkatkan kualitas halaman website dengan harapan dapat secara signifikan meningkatkan standar dari website secara otomatis. </br>\n",
    "\n",
    "**Daftar Isi :**\n",
    "1. Preprocessing data\n",
    "2. A/B Testing\n",
    "3. Kesimpulan"
   ]
  },
  {
   "cell_type": "markdown",
   "metadata": {},
   "source": [
    "### 1. Preprocessing Data\n",
    "\n",
    "Langkah pertama yang harus dilakukan adalah menginstall library yang akan digunakan untuk analisis :"
   ]
  },
  {
   "cell_type": "code",
   "execution_count": 10,
   "metadata": {},
   "outputs": [],
   "source": [
    "import pandas as pd\n",
    "import numpy as np\n",
    "import random\n",
    "import matplotlib.pyplot as plt\n",
    "%matplotlib inline\n",
    "from sklearn.linear_model import LogisticRegression\n",
    "from sklearn.metrics import confusion_matrix, precision_score, recall_score, accuracy_score\n",
    "from sklearn.model_selection import train_test_split\n",
    "import statsmodels.api as sm\n",
    "from scipy import stats\n",
    "from scipy.stats import norm\n",
    "from statsmodels.stats import weightstats as stests"
   ]
  },
  {
   "cell_type": "markdown",
   "metadata": {},
   "source": [
    "**Input Dataset**"
   ]
  },
  {
   "cell_type": "markdown",
   "metadata": {},
   "source": [
    "Data yang digunakan pada project ini adalah data mengenai subjek yang diberikan treatment berupa halaman baru dari suatu website. Dengan control berupa halaman lama dari suatu website. </br>\n",
    "Didefinisikan sebagai berikut :\n",
    "* Seseorang yang diberi **treatment** dengan diberi halaman baru dan memutuskan untuk **mendaftarkan** akun mereka ke premium maka akan diberi kode 1 \n",
    "* Seseorang yang diberi **treatment** dengan diberi halaman baru dan memutuskan untuk **tidak mendaftarkan** akun mereka ke premium maka akan diberi kode 0\n",
    "* Seseorang yang menjadi **kontrol** dengan menggunakan halaman lama dan memutuskan untuk **mendaftarkan** akun mereka ke premium maka akan diberi kode 1\n",
    "* Seseorang yang menjadi **kontrol** dengan menggunakan halaman lama dan memutuskan untuk **tidak mendaftarkan** akun mereka ke premium maka akan diberi kode 0"
   ]
  },
  {
   "cell_type": "code",
   "execution_count": 11,
   "metadata": {},
   "outputs": [
    {
     "data": {
      "text/html": [
       "<div>\n",
       "<style scoped>\n",
       "    .dataframe tbody tr th:only-of-type {\n",
       "        vertical-align: middle;\n",
       "    }\n",
       "\n",
       "    .dataframe tbody tr th {\n",
       "        vertical-align: top;\n",
       "    }\n",
       "\n",
       "    .dataframe thead th {\n",
       "        text-align: right;\n",
       "    }\n",
       "</style>\n",
       "<table border=\"1\" class=\"dataframe\">\n",
       "  <thead>\n",
       "    <tr style=\"text-align: right;\">\n",
       "      <th></th>\n",
       "      <th>user_id</th>\n",
       "      <th>timestamp</th>\n",
       "      <th>group</th>\n",
       "      <th>landing_page</th>\n",
       "      <th>converted</th>\n",
       "    </tr>\n",
       "  </thead>\n",
       "  <tbody>\n",
       "    <tr>\n",
       "      <th>0</th>\n",
       "      <td>851104</td>\n",
       "      <td>2017-01-21 22:11:48.556739</td>\n",
       "      <td>control</td>\n",
       "      <td>old_page</td>\n",
       "      <td>0</td>\n",
       "    </tr>\n",
       "    <tr>\n",
       "      <th>1</th>\n",
       "      <td>804228</td>\n",
       "      <td>2017-01-12 08:01:45.159739</td>\n",
       "      <td>control</td>\n",
       "      <td>old_page</td>\n",
       "      <td>0</td>\n",
       "    </tr>\n",
       "    <tr>\n",
       "      <th>2</th>\n",
       "      <td>661590</td>\n",
       "      <td>2017-01-11 16:55:06.154213</td>\n",
       "      <td>treatment</td>\n",
       "      <td>new_page</td>\n",
       "      <td>0</td>\n",
       "    </tr>\n",
       "    <tr>\n",
       "      <th>3</th>\n",
       "      <td>853541</td>\n",
       "      <td>2017-01-08 18:28:03.143765</td>\n",
       "      <td>treatment</td>\n",
       "      <td>new_page</td>\n",
       "      <td>0</td>\n",
       "    </tr>\n",
       "    <tr>\n",
       "      <th>4</th>\n",
       "      <td>864975</td>\n",
       "      <td>2017-01-21 01:52:26.210827</td>\n",
       "      <td>control</td>\n",
       "      <td>old_page</td>\n",
       "      <td>1</td>\n",
       "    </tr>\n",
       "  </tbody>\n",
       "</table>\n",
       "</div>"
      ],
      "text/plain": [
       "   user_id                   timestamp      group landing_page  converted\n",
       "0   851104  2017-01-21 22:11:48.556739    control     old_page          0\n",
       "1   804228  2017-01-12 08:01:45.159739    control     old_page          0\n",
       "2   661590  2017-01-11 16:55:06.154213  treatment     new_page          0\n",
       "3   853541  2017-01-08 18:28:03.143765  treatment     new_page          0\n",
       "4   864975  2017-01-21 01:52:26.210827    control     old_page          1"
      ]
     },
     "execution_count": 11,
     "metadata": {},
     "output_type": "execute_result"
    }
   ],
   "source": [
    "data=pd.read_csv('ab_data.csv')\n",
    "data.head()"
   ]
  },
  {
   "cell_type": "markdown",
   "metadata": {},
   "source": [
    "**Pengecekan missing value**"
   ]
  },
  {
   "cell_type": "code",
   "execution_count": 12,
   "metadata": {
    "scrolled": true
   },
   "outputs": [
    {
     "data": {
      "text/plain": [
       "user_id         0\n",
       "timestamp       0\n",
       "group           0\n",
       "landing_page    0\n",
       "converted       0\n",
       "dtype: int64"
      ]
     },
     "execution_count": 12,
     "metadata": {},
     "output_type": "execute_result"
    }
   ],
   "source": [
    "data.isnull().sum()"
   ]
  },
  {
   "cell_type": "markdown",
   "metadata": {},
   "source": [
    "tidak ditemukan missing value antar variabel pengamatan"
   ]
  },
  {
   "cell_type": "code",
   "execution_count": 13,
   "metadata": {},
   "outputs": [
    {
     "name": "stdout",
     "output_type": "stream",
     "text": [
      "<class 'pandas.core.frame.DataFrame'>\n",
      "RangeIndex: 294478 entries, 0 to 294477\n",
      "Data columns (total 5 columns):\n",
      "user_id         294478 non-null int64\n",
      "timestamp       294478 non-null object\n",
      "group           294478 non-null object\n",
      "landing_page    294478 non-null object\n",
      "converted       294478 non-null int64\n",
      "dtypes: int64(2), object(3)\n",
      "memory usage: 11.2+ MB\n"
     ]
    }
   ],
   "source": [
    "data.info()"
   ]
  },
  {
   "cell_type": "code",
   "execution_count": 14,
   "metadata": {},
   "outputs": [
    {
     "data": {
      "text/plain": [
       "290584"
      ]
     },
     "execution_count": 14,
     "metadata": {},
     "output_type": "execute_result"
    }
   ],
   "source": [
    "data.user_id.nunique()"
   ]
  },
  {
   "cell_type": "markdown",
   "metadata": {},
   "source": [
    "**total data yang digunakan pada A/B Testing ini sebanyak 294.478, sedangkan hanya ada 290.584 data yang unik**\n",
    "\n",
    "Hal ini menunjukkan adanya ketidaklarasan baris antara :\n",
    "- variabel treatment dengan halaman page\n",
    "- variabel kontrol dengan halaman page"
   ]
  },
  {
   "cell_type": "code",
   "execution_count": 15,
   "metadata": {},
   "outputs": [
    {
     "name": "stdout",
     "output_type": "stream",
     "text": [
      "Frekuensi treatment dengan halaman baru tidak sebaris adalah 3893 data\n"
     ]
    }
   ],
   "source": [
    "data_cek = data.query('(group == \"treatment\" and landing_page != \"new_page\" ) \\\n",
    "         or (group != \"treatment\" and landing_page == \"new_page\")').count()[0]\n",
    "print(\"Frekuensi treatment dengan halaman baru tidak sebaris adalah {} data\".format(data_cek))"
   ]
  },
  {
   "cell_type": "markdown",
   "metadata": {},
   "source": [
    "**Pada baris yang tidak selaras, tidak dapat dipastikan apakah baris ini akan menerima halaman baru atau tidak sehingga akan dilakukan penghapusan variabel dan membuat data frame baru.**"
   ]
  },
  {
   "cell_type": "code",
   "execution_count": 16,
   "metadata": {},
   "outputs": [],
   "source": [
    "data1 =data.drop(data.query('(group == \"treatment\" and landing_page != \"new_page\" ) \\\n",
    "                      or (group != \"treatment\" and landing_page == \"new_page\") or (group == \"control\" and landing_page != \"old_page\") or (group != \"control\" and landing_page == \"old_page\")').index)"
   ]
  },
  {
   "cell_type": "code",
   "execution_count": 17,
   "metadata": {},
   "outputs": [
    {
     "data": {
      "text/plain": [
       "290584"
      ]
     },
     "execution_count": 17,
     "metadata": {},
     "output_type": "execute_result"
    }
   ],
   "source": [
    "data1.user_id.nunique()"
   ]
  },
  {
   "cell_type": "markdown",
   "metadata": {},
   "source": [
    "Jumlah data yang unik telah bersih dengan user sebanyak 290.584. Kemudian dilakukan pengecekan apakah terdapat data yang duplikat atau tidak"
   ]
  },
  {
   "cell_type": "code",
   "execution_count": 18,
   "metadata": {},
   "outputs": [
    {
     "data": {
      "text/plain": [
       "1"
      ]
     },
     "execution_count": 18,
     "metadata": {},
     "output_type": "execute_result"
    }
   ],
   "source": [
    "data1.user_id.duplicated().sum()"
   ]
  },
  {
   "cell_type": "markdown",
   "metadata": {},
   "source": [
    "terdapat duplikasi data sehingga dilakukan identifikasi untuk selanjutnya dilakukan penghapusan data duplikat :"
   ]
  },
  {
   "cell_type": "code",
   "execution_count": 19,
   "metadata": {},
   "outputs": [
    {
     "data": {
      "text/plain": [
       "2893    773192\n",
       "Name: user_id, dtype: int64"
      ]
     },
     "execution_count": 19,
     "metadata": {},
     "output_type": "execute_result"
    }
   ],
   "source": [
    "data1[data1['user_id'].duplicated()]['user_id']"
   ]
  },
  {
   "cell_type": "code",
   "execution_count": 20,
   "metadata": {},
   "outputs": [
    {
     "data": {
      "text/html": [
       "<div>\n",
       "<style scoped>\n",
       "    .dataframe tbody tr th:only-of-type {\n",
       "        vertical-align: middle;\n",
       "    }\n",
       "\n",
       "    .dataframe tbody tr th {\n",
       "        vertical-align: top;\n",
       "    }\n",
       "\n",
       "    .dataframe thead th {\n",
       "        text-align: right;\n",
       "    }\n",
       "</style>\n",
       "<table border=\"1\" class=\"dataframe\">\n",
       "  <thead>\n",
       "    <tr style=\"text-align: right;\">\n",
       "      <th></th>\n",
       "      <th>user_id</th>\n",
       "      <th>timestamp</th>\n",
       "      <th>group</th>\n",
       "      <th>landing_page</th>\n",
       "      <th>converted</th>\n",
       "    </tr>\n",
       "  </thead>\n",
       "  <tbody>\n",
       "    <tr>\n",
       "      <th>1899</th>\n",
       "      <td>773192</td>\n",
       "      <td>2017-01-09 05:37:58.781806</td>\n",
       "      <td>treatment</td>\n",
       "      <td>new_page</td>\n",
       "      <td>0</td>\n",
       "    </tr>\n",
       "    <tr>\n",
       "      <th>2893</th>\n",
       "      <td>773192</td>\n",
       "      <td>2017-01-14 02:55:59.590927</td>\n",
       "      <td>treatment</td>\n",
       "      <td>new_page</td>\n",
       "      <td>0</td>\n",
       "    </tr>\n",
       "  </tbody>\n",
       "</table>\n",
       "</div>"
      ],
      "text/plain": [
       "      user_id                   timestamp      group landing_page  converted\n",
       "1899   773192  2017-01-09 05:37:58.781806  treatment     new_page          0\n",
       "2893   773192  2017-01-14 02:55:59.590927  treatment     new_page          0"
      ]
     },
     "execution_count": 20,
     "metadata": {},
     "output_type": "execute_result"
    }
   ],
   "source": [
    "data1.query('user_id == 773192')"
   ]
  },
  {
   "cell_type": "code",
   "execution_count": 21,
   "metadata": {},
   "outputs": [
    {
     "data": {
      "text/plain": [
       "0"
      ]
     },
     "execution_count": 21,
     "metadata": {},
     "output_type": "execute_result"
    }
   ],
   "source": [
    "data2 = data1.drop(data1.query('user_id == 773192 and timestamp == \"2017-01-09 05:37:58.781806\"').index)\n",
    "data2.user_id.duplicated().sum()"
   ]
  },
  {
   "cell_type": "markdown",
   "metadata": {},
   "source": [
    "Setelah dilakukan penghapusan data yang rangkap, dilakukan pengecekan kembali untuk memastikan apakah ada data duplikat atau tidak. Hasil menunjukkan tidak ada data yang rangkap sehingga dapat dilanjutkan untuk analisis."
   ]
  },
  {
   "cell_type": "markdown",
   "metadata": {},
   "source": [
    "**PROBABILITAS**"
   ]
  },
  {
   "cell_type": "code",
   "execution_count": 23,
   "metadata": {
    "scrolled": true
   },
   "outputs": [
    {
     "name": "stdout",
     "output_type": "stream",
     "text": [
      "Probabilitas seseorang mengubah akun menjadi akun premium adalah 11.96%\n"
     ]
    }
   ],
   "source": [
    "# probabilitas seseorang mengubah akun menjadi akun premium\n",
    "data1_prob =data1.query('converted == 1').user_id.nunique()/data1.user_id.nunique()\n",
    "print(\"Probabilitas seseorang mengubah akun menjadi akun premium adalah {0:.2%}\".format(data1_prob))"
   ]
  },
  {
   "cell_type": "code",
   "execution_count": 26,
   "metadata": {
    "scrolled": true
   },
   "outputs": [
    {
     "name": "stdout",
     "output_type": "stream",
     "text": [
      "Probabilitas seseorang mengubah akun menjadi akun premium saat melihat tampilan halaman lama adalah 12.04%\n"
     ]
    }
   ],
   "source": [
    "# probabilitas seseorang mengubah akun menjadi akun premium saat melihat tampilan halaman lama\n",
    "data1_con = data1.query('converted == 1 and group == \"control\"').user_id.nunique() \\\n",
    "/data1.query('group == \"control\"').user_id.nunique()\n",
    "\n",
    "print(\"Probabilitas seseorang mengubah akun menjadi akun premium saat melihat tampilan halaman lama adalah {0:.2%}\".format(data1_con))"
   ]
  },
  {
   "cell_type": "code",
   "execution_count": 28,
   "metadata": {},
   "outputs": [
    {
     "name": "stdout",
     "output_type": "stream",
     "text": [
      "Probabilitas seseorang mengubah akun menjadi akun premium saat melihat tampilan halaman baru 11.88%\n"
     ]
    }
   ],
   "source": [
    "# probabilitas seseorang mengubah akun menjadi akun premium saat melihat tampilan halaman baru\n",
    "data1_treat = data1.query('converted == 1 and group == \"treatment\"').user_id.nunique() \\\n",
    "/data1.query('group == \"treatment\"').user_id.nunique()\n",
    "\n",
    "print(\"Probabilitas seseorang mengubah akun menjadi akun premium saat melihat tampilan halaman baru {0:.2%}\".format(data1_treat))"
   ]
  },
  {
   "cell_type": "markdown",
   "metadata": {},
   "source": [
    "### 2. A/B TESTING"
   ]
  },
  {
   "cell_type": "markdown",
   "metadata": {},
   "source": [
    "Diasumsikan halaman lama lebih baik dibandingkan dengan halaman baru menggunakan tingkat keyakinan 5% dengan kesalahan tipe 1.\n",
    "\n",
    "**Hipotesis :**\n",
    "* $H_{0}$: $p_{baru}$-$p_{lama}$ $<=$ $0$\n",
    "* $H_{1}$: $p_{lama}$ - $p_{baru}$ $>$ $0$"
   ]
  },
  {
   "cell_type": "markdown",
   "metadata": {},
   "source": [
    "**Statistik Uji :**"
   ]
  },
  {
   "cell_type": "markdown",
   "metadata": {},
   "source": [
    "dengan menggunakan **Z.Test** untuk mengetahui apakah ada perbedaan signifikan antara menggunakan halaman baru dengan halaman lama."
   ]
  },
  {
   "cell_type": "code",
   "execution_count": 46,
   "metadata": {},
   "outputs": [
    {
     "data": {
      "text/plain": [
       "(17489, 17264, 145274, 145311)"
      ]
     },
     "execution_count": 46,
     "metadata": {},
     "output_type": "execute_result"
    }
   ],
   "source": [
    "convert_lama = data1.query('converted == 1 and landing_page == \"old_page\"').count()[0]\n",
    "convert_baru = data1.query('converted == 1 and landing_page == \"new_page\"').count()[0]\n",
    "n_lama = data1.query('landing_page == \"old_page\" ').count()[0]\n",
    "n_baru= data1.query('landing_page == \"new_page\" ').count()[0]\n",
    "convert_lama,convert_baru,n_lama,n_baru"
   ]
  },
  {
   "cell_type": "code",
   "execution_count": 68,
   "metadata": {},
   "outputs": [
    {
     "data": {
      "text/plain": [
       "array([1, 1, 1, ..., 1, 1, 1])"
      ]
     },
     "execution_count": 68,
     "metadata": {},
     "output_type": "execute_result"
    }
   ],
   "source": [
    "p_new = data1.converted.mean()\n",
    "new_page_converted = np.random.choice([0,1],n_baru, p=(p_new,1-p_new))\n",
    "new_page_converted"
   ]
  },
  {
   "cell_type": "code",
   "execution_count": 64,
   "metadata": {},
   "outputs": [],
   "source": [
    "def Z_test(convert_baru,convert_lama):\n",
    "    z_score, p_value = sm.stats.proportions_ztest(np.array([convert_baru,convert_lama]),\\\n",
    "                                              np.array([n_baru,n_lama]), alternative = 'larger')\n",
    "    ztabel=norm.ppf(1-(0.05/2))\n",
    "    Keputusan1='Tolak H0'\n",
    "    Keputusan2='Gagal Tolak H0'\n",
    "    Keputusan= Keputusan1 if p_value<0.05 else Keputusan2\n",
    "    \n",
    "    tabel=pd.DataFrame()\n",
    "    tabel['Z_Score']=[z_score,'']\n",
    "    tabel['P-Value']=[p_value,'']\n",
    "    tabel['Z-Tabel']=[ztabel,'']\n",
    "    tabel['Keputusan']=[Keputusan,'']\n",
    "    return tabel\n"
   ]
  },
  {
   "cell_type": "code",
   "execution_count": 65,
   "metadata": {},
   "outputs": [
    {
     "data": {
      "text/html": [
       "<div>\n",
       "<style scoped>\n",
       "    .dataframe tbody tr th:only-of-type {\n",
       "        vertical-align: middle;\n",
       "    }\n",
       "\n",
       "    .dataframe tbody tr th {\n",
       "        vertical-align: top;\n",
       "    }\n",
       "\n",
       "    .dataframe thead th {\n",
       "        text-align: right;\n",
       "    }\n",
       "</style>\n",
       "<table border=\"1\" class=\"dataframe\">\n",
       "  <thead>\n",
       "    <tr style=\"text-align: right;\">\n",
       "      <th></th>\n",
       "      <th>Z_Score</th>\n",
       "      <th>P-Value</th>\n",
       "      <th>Z-Tabel</th>\n",
       "      <th>Keputusan</th>\n",
       "    </tr>\n",
       "  </thead>\n",
       "  <tbody>\n",
       "    <tr>\n",
       "      <th>0</th>\n",
       "      <td>-1.31161</td>\n",
       "      <td>0.905174</td>\n",
       "      <td>1.95996</td>\n",
       "      <td>Gagal Tolak H0</td>\n",
       "    </tr>\n",
       "    <tr>\n",
       "      <th>1</th>\n",
       "      <td></td>\n",
       "      <td></td>\n",
       "      <td></td>\n",
       "      <td></td>\n",
       "    </tr>\n",
       "  </tbody>\n",
       "</table>\n",
       "</div>"
      ],
      "text/plain": [
       "   Z_Score   P-Value  Z-Tabel       Keputusan\n",
       "0 -1.31161  0.905174  1.95996  Gagal Tolak H0\n",
       "1                                            "
      ]
     },
     "execution_count": 65,
     "metadata": {},
     "output_type": "execute_result"
    }
   ],
   "source": [
    "Z_test(convert_baru,convert_lama)"
   ]
  },
  {
   "cell_type": "markdown",
   "metadata": {},
   "source": [
    "### Kesimpulan "
   ]
  },
  {
   "cell_type": "markdown",
   "metadata": {},
   "source": [
    "Berdasarkan hasil analisis menggunakan A/B Testing diperoleh hasil p-value sebesar 0.905 sehingga diputuskan *gagal tolak H0*, dari hasil tersebut diketahui bahwa dengan **mempertimbangkan halaman lama lebih baik dibandingkan menggunakan halaman baru**"
   ]
  },
  {
   "cell_type": "code",
   "execution_count": null,
   "metadata": {},
   "outputs": [],
   "source": []
  }
 ],
 "metadata": {
  "kernelspec": {
   "display_name": "Python 3",
   "language": "python",
   "name": "python3"
  },
  "language_info": {
   "codemirror_mode": {
    "name": "ipython",
    "version": 3
   },
   "file_extension": ".py",
   "mimetype": "text/x-python",
   "name": "python",
   "nbconvert_exporter": "python",
   "pygments_lexer": "ipython3",
   "version": "3.6.4"
  }
 },
 "nbformat": 4,
 "nbformat_minor": 2
}
