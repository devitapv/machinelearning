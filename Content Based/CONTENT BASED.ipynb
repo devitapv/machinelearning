{
 "cells": [
  {
   "cell_type": "markdown",
   "metadata": {},
   "source": [
    "## CONTENT BASED\n",
    "\n",
    "Content based merupakan salah satu teknik yang digunakan untuk memberikan rekomendasi dengan mempertimbangkan feature-feature lain yang memiliki kemiripan. <br>\n",
    "\n",
    "Pada project ini, rekomendasi film yang diberikan dilihat berdasarkan besarnya korelasi antar film dengan mempertimbangkan feature-feature lain diantaranya :\n",
    "1. Jenis film\n",
    "2. Genre\n",
    "3. Rating\n",
    "4. Duration"
   ]
  },
  {
   "cell_type": "markdown",
   "metadata": {},
   "source": [
    "**Import Libraries**"
   ]
  },
  {
   "cell_type": "code",
   "execution_count": 1,
   "metadata": {},
   "outputs": [],
   "source": [
    "import pandas as pd\n",
    "import numpy as np\n",
    "from sklearn.metrics.pairwise import cosine_similarity"
   ]
  },
  {
   "cell_type": "markdown",
   "metadata": {},
   "source": [
    "**Import Dataset**"
   ]
  },
  {
   "cell_type": "code",
   "execution_count": 14,
   "metadata": {
    "scrolled": true
   },
   "outputs": [
    {
     "data": {
      "text/html": [
       "<div>\n",
       "<style scoped>\n",
       "    .dataframe tbody tr th:only-of-type {\n",
       "        vertical-align: middle;\n",
       "    }\n",
       "\n",
       "    .dataframe tbody tr th {\n",
       "        vertical-align: top;\n",
       "    }\n",
       "\n",
       "    .dataframe thead th {\n",
       "        text-align: right;\n",
       "    }\n",
       "</style>\n",
       "<table border=\"1\" class=\"dataframe\">\n",
       "  <thead>\n",
       "    <tr style=\"text-align: right;\">\n",
       "      <th></th>\n",
       "      <th>Movie</th>\n",
       "      <th>Jenis</th>\n",
       "      <th>Gendre</th>\n",
       "      <th>Rating</th>\n",
       "      <th>Kode_Rating</th>\n",
       "      <th>Duration</th>\n",
       "    </tr>\n",
       "  </thead>\n",
       "  <tbody>\n",
       "    <tr>\n",
       "      <th>0</th>\n",
       "      <td>Avenger</td>\n",
       "      <td>Non Indo</td>\n",
       "      <td>Action</td>\n",
       "      <td>8.6</td>\n",
       "      <td>1.00</td>\n",
       "      <td>181</td>\n",
       "    </tr>\n",
       "    <tr>\n",
       "      <th>1</th>\n",
       "      <td>IT Chapter Two</td>\n",
       "      <td>Indo</td>\n",
       "      <td>Horror</td>\n",
       "      <td>7.0</td>\n",
       "      <td>0.36</td>\n",
       "      <td>169</td>\n",
       "    </tr>\n",
       "    <tr>\n",
       "      <th>2</th>\n",
       "      <td>Frozen 1</td>\n",
       "      <td>Non Indo</td>\n",
       "      <td>Animation</td>\n",
       "      <td>7.5</td>\n",
       "      <td>0.56</td>\n",
       "      <td>102</td>\n",
       "    </tr>\n",
       "    <tr>\n",
       "      <th>3</th>\n",
       "      <td>Gundala</td>\n",
       "      <td>Indo</td>\n",
       "      <td>Action</td>\n",
       "      <td>7.6</td>\n",
       "      <td>0.60</td>\n",
       "      <td>183</td>\n",
       "    </tr>\n",
       "    <tr>\n",
       "      <th>4</th>\n",
       "      <td>Dora and The Lost City of Gold</td>\n",
       "      <td>Non Indo</td>\n",
       "      <td>Adventure</td>\n",
       "      <td>6.1</td>\n",
       "      <td>1.00</td>\n",
       "      <td>102</td>\n",
       "    </tr>\n",
       "    <tr>\n",
       "      <th>5</th>\n",
       "      <td>The Conjuring</td>\n",
       "      <td>Non Indo</td>\n",
       "      <td>Horror</td>\n",
       "      <td>7.5</td>\n",
       "      <td>0.56</td>\n",
       "      <td>112</td>\n",
       "    </tr>\n",
       "    <tr>\n",
       "      <th>6</th>\n",
       "      <td>Bumi Manusia</td>\n",
       "      <td>Indo</td>\n",
       "      <td>Drama</td>\n",
       "      <td>7.2</td>\n",
       "      <td>0.44</td>\n",
       "      <td>181</td>\n",
       "    </tr>\n",
       "    <tr>\n",
       "      <th>7</th>\n",
       "      <td>Habibie &amp; Ainun</td>\n",
       "      <td>Indo</td>\n",
       "      <td>Drama</td>\n",
       "      <td>7.6</td>\n",
       "      <td>0.60</td>\n",
       "      <td>120</td>\n",
       "    </tr>\n",
       "    <tr>\n",
       "      <th>8</th>\n",
       "      <td>Fast &amp; Furious Presents : Hobbs &amp; Shaw</td>\n",
       "      <td>Non Indo</td>\n",
       "      <td>Action</td>\n",
       "      <td>6.8</td>\n",
       "      <td>0.28</td>\n",
       "      <td>137</td>\n",
       "    </tr>\n",
       "    <tr>\n",
       "      <th>9</th>\n",
       "      <td>Incredibles 2</td>\n",
       "      <td>Non Indo</td>\n",
       "      <td>Animation</td>\n",
       "      <td>7.7</td>\n",
       "      <td>0.64</td>\n",
       "      <td>118</td>\n",
       "    </tr>\n",
       "  </tbody>\n",
       "</table>\n",
       "</div>"
      ],
      "text/plain": [
       "                                    Movie     Jenis     Gendre  Rating  \\\n",
       "0                                 Avenger  Non Indo     Action     8.6   \n",
       "1                          IT Chapter Two      Indo     Horror     7.0   \n",
       "2                                Frozen 1  Non Indo  Animation     7.5   \n",
       "3                                 Gundala      Indo     Action     7.6   \n",
       "4          Dora and The Lost City of Gold  Non Indo  Adventure     6.1   \n",
       "5                           The Conjuring  Non Indo     Horror     7.5   \n",
       "6                            Bumi Manusia      Indo      Drama     7.2   \n",
       "7                         Habibie & Ainun      Indo      Drama     7.6   \n",
       "8  Fast & Furious Presents : Hobbs & Shaw  Non Indo     Action     6.8   \n",
       "9                           Incredibles 2  Non Indo  Animation     7.7   \n",
       "\n",
       "   Kode_Rating  Duration  \n",
       "0         1.00       181  \n",
       "1         0.36       169  \n",
       "2         0.56       102  \n",
       "3         0.60       183  \n",
       "4         1.00       102  \n",
       "5         0.56       112  \n",
       "6         0.44       181  \n",
       "7         0.60       120  \n",
       "8         0.28       137  \n",
       "9         0.64       118  "
      ]
     },
     "execution_count": 14,
     "metadata": {},
     "output_type": "execute_result"
    }
   ],
   "source": [
    "df=pd.read_csv('Movie1.csv',sep=';')\n",
    "df.head(10)"
   ]
  },
  {
   "cell_type": "markdown",
   "metadata": {},
   "source": [
    "Pada variabel rating akan dilakukan normalize dengan menggunakan min max dan membentuk data baru dengan label kode rating."
   ]
  },
  {
   "cell_type": "markdown",
   "metadata": {},
   "source": [
    "**Mengubah judul film menjadi index**"
   ]
  },
  {
   "cell_type": "code",
   "execution_count": 3,
   "metadata": {},
   "outputs": [],
   "source": [
    "df1=df.set_index('Movie',1)"
   ]
  },
  {
   "cell_type": "code",
   "execution_count": 4,
   "metadata": {},
   "outputs": [
    {
     "name": "stdout",
     "output_type": "stream",
     "text": [
      "<class 'pandas.core.frame.DataFrame'>\n",
      "Index: 10 entries, Avenger to Incredibles 2\n",
      "Data columns (total 5 columns):\n",
      "Jenis          10 non-null object\n",
      "Gendre         10 non-null object\n",
      "Rating         10 non-null float64\n",
      "Kode_Rating    10 non-null float64\n",
      "Duration       10 non-null int64\n",
      "dtypes: float64(2), int64(1), object(2)\n",
      "memory usage: 480.0+ bytes\n"
     ]
    }
   ],
   "source": [
    "df1.info()"
   ]
  },
  {
   "cell_type": "markdown",
   "metadata": {},
   "source": [
    "Jumlah data yang digunakan pada project ini adalah sebanyak 10 data dengan judul film : </br>\n",
    "1. Avenger\n",
    "2. IT Chapter Two\n",
    "3. Frozen I\n",
    "4. Gundala\n",
    "5. Dora and The Lost City of Gold\n",
    "6. Bumi Manusia\n",
    "7. Habibie & Ainun\n",
    "8. Fast & Furious Presents : Hubbs & Shaw\n",
    "9. Incredibles 2"
   ]
  },
  {
   "cell_type": "markdown",
   "metadata": {},
   "source": [
    "Untuk merekomendasikan film, akan mempertimbangkan genre, kode rating, dan Jenis film sehingga feature yang tidak digunakan akan dihapus"
   ]
  },
  {
   "cell_type": "code",
   "execution_count": 19,
   "metadata": {},
   "outputs": [],
   "source": [
    "df2=df1.drop(['Duration','Rating'],1)"
   ]
  },
  {
   "cell_type": "code",
   "execution_count": 20,
   "metadata": {},
   "outputs": [],
   "source": [
    "df2=pd.get_dummies(df2)"
   ]
  },
  {
   "cell_type": "markdown",
   "metadata": {},
   "source": [
    "### Cosine Similarity \n",
    "\n",
    "Cosine similarity digunakan untuk mengetahui nilai kedekatan antar items"
   ]
  },
  {
   "cell_type": "code",
   "execution_count": 17,
   "metadata": {},
   "outputs": [],
   "source": [
    "SM=cosine_similarity(df2,df2)"
   ]
  },
  {
   "cell_type": "code",
   "execution_count": 18,
   "metadata": {
    "scrolled": false
   },
   "outputs": [
    {
     "data": {
      "text/plain": [
       "array([[1.        , 0.14242717, 0.59213377, 0.60131682, 0.66666667,\n",
       "        0.59213377, 0.17151943, 0.22549381, 0.91308173, 0.60997318],\n",
       "       [0.14242717, 1.        , 0.09082332, 0.54241108, 0.14242717,\n",
       "        0.54133582, 0.53595807, 0.54241108, 0.04791229, 0.10170937],\n",
       "       [0.59213377, 0.09082332, 1.        , 0.14379346, 0.59213377,\n",
       "        0.56777317, 0.10937494, 0.14379346, 0.52753293, 0.99885133],\n",
       "       [0.60131682, 0.54241108, 0.14379346, 1.        , 0.22549381,\n",
       "        0.14379346, 0.55553619, 0.57627119, 0.52737832, 0.1610285 ],\n",
       "       [0.66666667, 0.14242717, 0.59213377, 0.22549381, 1.        ,\n",
       "        0.59213377, 0.17151943, 0.22549381, 0.51260729, 0.60997318],\n",
       "       [0.59213377, 0.54133582, 0.56777317, 0.14379346, 0.59213377,\n",
       "        1.        , 0.10937494, 0.14379346, 0.52753293, 0.5753221 ],\n",
       "       [0.17151943, 0.53595807, 0.10937494, 0.55553619, 0.17151943,\n",
       "        0.10937494, 1.        , 0.99504266, 0.05769889, 0.12248459],\n",
       "       [0.22549381, 0.54241108, 0.14379346, 0.57627119, 0.22549381,\n",
       "        0.14379346, 0.99504266, 1.        , 0.07585579, 0.1610285 ],\n",
       "       [0.91308173, 0.04791229, 0.52753293, 0.52737832, 0.51260729,\n",
       "        0.52753293, 0.05769889, 0.07585579, 1.        , 0.52692697],\n",
       "       [0.60997318, 0.10170937, 0.99885133, 0.1610285 , 0.60997318,\n",
       "        0.5753221 , 0.12248459, 0.1610285 , 0.52692697, 1.        ]])"
      ]
     },
     "execution_count": 18,
     "metadata": {},
     "output_type": "execute_result"
    }
   ],
   "source": [
    "SM"
   ]
  },
  {
   "cell_type": "markdown",
   "metadata": {},
   "source": [
    "### Applying Content Based\n",
    "\n",
    "Pada content based, rekomendasi yang diberikan bergantung pada besarnya korelasi antar feature. Semakin besar nilai korelasi maka semakin kuat hubungan antar items "
   ]
  },
  {
   "cell_type": "code",
   "execution_count": 21,
   "metadata": {},
   "outputs": [
    {
     "data": {
      "text/html": [
       "<div>\n",
       "<style scoped>\n",
       "    .dataframe tbody tr th:only-of-type {\n",
       "        vertical-align: middle;\n",
       "    }\n",
       "\n",
       "    .dataframe tbody tr th {\n",
       "        vertical-align: top;\n",
       "    }\n",
       "\n",
       "    .dataframe thead th {\n",
       "        text-align: right;\n",
       "    }\n",
       "</style>\n",
       "<table border=\"1\" class=\"dataframe\">\n",
       "  <thead>\n",
       "    <tr style=\"text-align: right;\">\n",
       "      <th>Movie</th>\n",
       "      <th>Avenger</th>\n",
       "      <th>IT Chapter Two</th>\n",
       "      <th>Frozen 1</th>\n",
       "      <th>Gundala</th>\n",
       "      <th>Dora and The Lost City of Gold</th>\n",
       "      <th>The Conjuring</th>\n",
       "      <th>Bumi Manusia</th>\n",
       "      <th>Habibie &amp; Ainun</th>\n",
       "      <th>Fast &amp; Furious Presents : Hobbs &amp; Shaw</th>\n",
       "      <th>Incredibles 2</th>\n",
       "    </tr>\n",
       "    <tr>\n",
       "      <th>Movie</th>\n",
       "      <th></th>\n",
       "      <th></th>\n",
       "      <th></th>\n",
       "      <th></th>\n",
       "      <th></th>\n",
       "      <th></th>\n",
       "      <th></th>\n",
       "      <th></th>\n",
       "      <th></th>\n",
       "      <th></th>\n",
       "    </tr>\n",
       "  </thead>\n",
       "  <tbody>\n",
       "    <tr>\n",
       "      <th>Avenger</th>\n",
       "      <td>1.000000</td>\n",
       "      <td>0.142427</td>\n",
       "      <td>0.592134</td>\n",
       "      <td>0.601317</td>\n",
       "      <td>0.666667</td>\n",
       "      <td>0.592134</td>\n",
       "      <td>0.171519</td>\n",
       "      <td>0.225494</td>\n",
       "      <td>0.913082</td>\n",
       "      <td>0.609973</td>\n",
       "    </tr>\n",
       "    <tr>\n",
       "      <th>IT Chapter Two</th>\n",
       "      <td>0.142427</td>\n",
       "      <td>1.000000</td>\n",
       "      <td>0.090823</td>\n",
       "      <td>0.542411</td>\n",
       "      <td>0.142427</td>\n",
       "      <td>0.541336</td>\n",
       "      <td>0.535958</td>\n",
       "      <td>0.542411</td>\n",
       "      <td>0.047912</td>\n",
       "      <td>0.101709</td>\n",
       "    </tr>\n",
       "    <tr>\n",
       "      <th>Frozen 1</th>\n",
       "      <td>0.592134</td>\n",
       "      <td>0.090823</td>\n",
       "      <td>1.000000</td>\n",
       "      <td>0.143793</td>\n",
       "      <td>0.592134</td>\n",
       "      <td>0.567773</td>\n",
       "      <td>0.109375</td>\n",
       "      <td>0.143793</td>\n",
       "      <td>0.527533</td>\n",
       "      <td>0.998851</td>\n",
       "    </tr>\n",
       "    <tr>\n",
       "      <th>Gundala</th>\n",
       "      <td>0.601317</td>\n",
       "      <td>0.542411</td>\n",
       "      <td>0.143793</td>\n",
       "      <td>1.000000</td>\n",
       "      <td>0.225494</td>\n",
       "      <td>0.143793</td>\n",
       "      <td>0.555536</td>\n",
       "      <td>0.576271</td>\n",
       "      <td>0.527378</td>\n",
       "      <td>0.161028</td>\n",
       "    </tr>\n",
       "    <tr>\n",
       "      <th>Dora and The Lost City of Gold</th>\n",
       "      <td>0.666667</td>\n",
       "      <td>0.142427</td>\n",
       "      <td>0.592134</td>\n",
       "      <td>0.225494</td>\n",
       "      <td>1.000000</td>\n",
       "      <td>0.592134</td>\n",
       "      <td>0.171519</td>\n",
       "      <td>0.225494</td>\n",
       "      <td>0.512607</td>\n",
       "      <td>0.609973</td>\n",
       "    </tr>\n",
       "    <tr>\n",
       "      <th>The Conjuring</th>\n",
       "      <td>0.592134</td>\n",
       "      <td>0.541336</td>\n",
       "      <td>0.567773</td>\n",
       "      <td>0.143793</td>\n",
       "      <td>0.592134</td>\n",
       "      <td>1.000000</td>\n",
       "      <td>0.109375</td>\n",
       "      <td>0.143793</td>\n",
       "      <td>0.527533</td>\n",
       "      <td>0.575322</td>\n",
       "    </tr>\n",
       "    <tr>\n",
       "      <th>Bumi Manusia</th>\n",
       "      <td>0.171519</td>\n",
       "      <td>0.535958</td>\n",
       "      <td>0.109375</td>\n",
       "      <td>0.555536</td>\n",
       "      <td>0.171519</td>\n",
       "      <td>0.109375</td>\n",
       "      <td>1.000000</td>\n",
       "      <td>0.995043</td>\n",
       "      <td>0.057699</td>\n",
       "      <td>0.122485</td>\n",
       "    </tr>\n",
       "    <tr>\n",
       "      <th>Habibie &amp; Ainun</th>\n",
       "      <td>0.225494</td>\n",
       "      <td>0.542411</td>\n",
       "      <td>0.143793</td>\n",
       "      <td>0.576271</td>\n",
       "      <td>0.225494</td>\n",
       "      <td>0.143793</td>\n",
       "      <td>0.995043</td>\n",
       "      <td>1.000000</td>\n",
       "      <td>0.075856</td>\n",
       "      <td>0.161028</td>\n",
       "    </tr>\n",
       "    <tr>\n",
       "      <th>Fast &amp; Furious Presents : Hobbs &amp; Shaw</th>\n",
       "      <td>0.913082</td>\n",
       "      <td>0.047912</td>\n",
       "      <td>0.527533</td>\n",
       "      <td>0.527378</td>\n",
       "      <td>0.512607</td>\n",
       "      <td>0.527533</td>\n",
       "      <td>0.057699</td>\n",
       "      <td>0.075856</td>\n",
       "      <td>1.000000</td>\n",
       "      <td>0.526927</td>\n",
       "    </tr>\n",
       "    <tr>\n",
       "      <th>Incredibles 2</th>\n",
       "      <td>0.609973</td>\n",
       "      <td>0.101709</td>\n",
       "      <td>0.998851</td>\n",
       "      <td>0.161028</td>\n",
       "      <td>0.609973</td>\n",
       "      <td>0.575322</td>\n",
       "      <td>0.122485</td>\n",
       "      <td>0.161028</td>\n",
       "      <td>0.526927</td>\n",
       "      <td>1.000000</td>\n",
       "    </tr>\n",
       "  </tbody>\n",
       "</table>\n",
       "</div>"
      ],
      "text/plain": [
       "Movie                                    Avenger  IT Chapter Two  Frozen 1  \\\n",
       "Movie                                                                        \n",
       "Avenger                                 1.000000        0.142427  0.592134   \n",
       "IT Chapter Two                          0.142427        1.000000  0.090823   \n",
       "Frozen 1                                0.592134        0.090823  1.000000   \n",
       "Gundala                                 0.601317        0.542411  0.143793   \n",
       "Dora and The Lost City of Gold          0.666667        0.142427  0.592134   \n",
       "The Conjuring                           0.592134        0.541336  0.567773   \n",
       "Bumi Manusia                            0.171519        0.535958  0.109375   \n",
       "Habibie & Ainun                         0.225494        0.542411  0.143793   \n",
       "Fast & Furious Presents : Hobbs & Shaw  0.913082        0.047912  0.527533   \n",
       "Incredibles 2                           0.609973        0.101709  0.998851   \n",
       "\n",
       "Movie                                    Gundala  \\\n",
       "Movie                                              \n",
       "Avenger                                 0.601317   \n",
       "IT Chapter Two                          0.542411   \n",
       "Frozen 1                                0.143793   \n",
       "Gundala                                 1.000000   \n",
       "Dora and The Lost City of Gold          0.225494   \n",
       "The Conjuring                           0.143793   \n",
       "Bumi Manusia                            0.555536   \n",
       "Habibie & Ainun                         0.576271   \n",
       "Fast & Furious Presents : Hobbs & Shaw  0.527378   \n",
       "Incredibles 2                           0.161028   \n",
       "\n",
       "Movie                                   Dora and The Lost City of Gold  \\\n",
       "Movie                                                                    \n",
       "Avenger                                                       0.666667   \n",
       "IT Chapter Two                                                0.142427   \n",
       "Frozen 1                                                      0.592134   \n",
       "Gundala                                                       0.225494   \n",
       "Dora and The Lost City of Gold                                1.000000   \n",
       "The Conjuring                                                 0.592134   \n",
       "Bumi Manusia                                                  0.171519   \n",
       "Habibie & Ainun                                               0.225494   \n",
       "Fast & Furious Presents : Hobbs & Shaw                        0.512607   \n",
       "Incredibles 2                                                 0.609973   \n",
       "\n",
       "Movie                                   The Conjuring  Bumi Manusia  \\\n",
       "Movie                                                                 \n",
       "Avenger                                      0.592134      0.171519   \n",
       "IT Chapter Two                               0.541336      0.535958   \n",
       "Frozen 1                                     0.567773      0.109375   \n",
       "Gundala                                      0.143793      0.555536   \n",
       "Dora and The Lost City of Gold               0.592134      0.171519   \n",
       "The Conjuring                                1.000000      0.109375   \n",
       "Bumi Manusia                                 0.109375      1.000000   \n",
       "Habibie & Ainun                              0.143793      0.995043   \n",
       "Fast & Furious Presents : Hobbs & Shaw       0.527533      0.057699   \n",
       "Incredibles 2                                0.575322      0.122485   \n",
       "\n",
       "Movie                                   Habibie & Ainun  \\\n",
       "Movie                                                     \n",
       "Avenger                                        0.225494   \n",
       "IT Chapter Two                                 0.542411   \n",
       "Frozen 1                                       0.143793   \n",
       "Gundala                                        0.576271   \n",
       "Dora and The Lost City of Gold                 0.225494   \n",
       "The Conjuring                                  0.143793   \n",
       "Bumi Manusia                                   0.995043   \n",
       "Habibie & Ainun                                1.000000   \n",
       "Fast & Furious Presents : Hobbs & Shaw         0.075856   \n",
       "Incredibles 2                                  0.161028   \n",
       "\n",
       "Movie                                   Fast & Furious Presents : Hobbs & Shaw  \\\n",
       "Movie                                                                            \n",
       "Avenger                                                               0.913082   \n",
       "IT Chapter Two                                                        0.047912   \n",
       "Frozen 1                                                              0.527533   \n",
       "Gundala                                                               0.527378   \n",
       "Dora and The Lost City of Gold                                        0.512607   \n",
       "The Conjuring                                                         0.527533   \n",
       "Bumi Manusia                                                          0.057699   \n",
       "Habibie & Ainun                                                       0.075856   \n",
       "Fast & Furious Presents : Hobbs & Shaw                                1.000000   \n",
       "Incredibles 2                                                         0.526927   \n",
       "\n",
       "Movie                                   Incredibles 2  \n",
       "Movie                                                  \n",
       "Avenger                                      0.609973  \n",
       "IT Chapter Two                               0.101709  \n",
       "Frozen 1                                     0.998851  \n",
       "Gundala                                      0.161028  \n",
       "Dora and The Lost City of Gold               0.609973  \n",
       "The Conjuring                                0.575322  \n",
       "Bumi Manusia                                 0.122485  \n",
       "Habibie & Ainun                              0.161028  \n",
       "Fast & Furious Presents : Hobbs & Shaw       0.526927  \n",
       "Incredibles 2                                1.000000  "
      ]
     },
     "execution_count": 21,
     "metadata": {},
     "output_type": "execute_result"
    }
   ],
   "source": [
    "content_based=pd.DataFrame(SM,index=df1.index,columns=df1.index)\n",
    "content_based"
   ]
  },
  {
   "cell_type": "code",
   "execution_count": 10,
   "metadata": {},
   "outputs": [],
   "source": [
    "import seaborn as sns\n",
    "import matplotlib.pyplot as plt"
   ]
  },
  {
   "cell_type": "code",
   "execution_count": 11,
   "metadata": {},
   "outputs": [
    {
     "data": {
      "text/plain": [
       "<matplotlib.axes._subplots.AxesSubplot at 0x1d9b4327da0>"
      ]
     },
     "execution_count": 11,
     "metadata": {},
     "output_type": "execute_result"
    },
    {
     "data": {
      "image/png": "[encoded data removed]",
      "text/plain": [
       "<matplotlib.figure.Figure at 0x1d9b4327c18>"
      ]
     },
     "metadata": {},
     "output_type": "display_data"
    }
   ],
   "source": [
    "plt.figure(figsize=(10,7))\n",
    "sns.heatmap(content_based,annot=True)"
   ]
  },
  {
   "cell_type": "markdown",
   "metadata": {},
   "source": [
    "**Rekomendasi Film**\n",
    "\n",
    "Rekomendasi film yang diberikan sebanyak 3 film sesuai dengan feature-feature yang memiliki kedekatan. Feature yang digunakan untuk memberikan rekomendasi genre, kode rating, dan jenis film."
   ]
  },
  {
   "cell_type": "code",
   "execution_count": 12,
   "metadata": {},
   "outputs": [
    {
     "data": {
      "text/html": [
       "<div>\n",
       "<style scoped>\n",
       "    .dataframe tbody tr th:only-of-type {\n",
       "        vertical-align: middle;\n",
       "    }\n",
       "\n",
       "    .dataframe tbody tr th {\n",
       "        vertical-align: top;\n",
       "    }\n",
       "\n",
       "    .dataframe thead th {\n",
       "        text-align: right;\n",
       "    }\n",
       "</style>\n",
       "<table border=\"1\" class=\"dataframe\">\n",
       "  <thead>\n",
       "    <tr style=\"text-align: right;\">\n",
       "      <th></th>\n",
       "      <th>IT Chapter Two</th>\n",
       "    </tr>\n",
       "    <tr>\n",
       "      <th>Movie</th>\n",
       "      <th></th>\n",
       "    </tr>\n",
       "  </thead>\n",
       "  <tbody>\n",
       "    <tr>\n",
       "      <th>Habibie &amp; Ainun</th>\n",
       "      <td>0.542411</td>\n",
       "    </tr>\n",
       "    <tr>\n",
       "      <th>Gundala</th>\n",
       "      <td>0.542411</td>\n",
       "    </tr>\n",
       "    <tr>\n",
       "      <th>The Conjuring</th>\n",
       "      <td>0.541336</td>\n",
       "    </tr>\n",
       "  </tbody>\n",
       "</table>\n",
       "</div>"
      ],
      "text/plain": [
       "                 IT Chapter Two\n",
       "Movie                          \n",
       "Habibie & Ainun        0.542411\n",
       "Gundala                0.542411\n",
       "The Conjuring          0.541336"
      ]
     },
     "execution_count": 12,
     "metadata": {},
     "output_type": "execute_result"
    }
   ],
   "source": [
    "Rekomendasi_movie=pd.DataFrame(content_based.iloc[:,1].sort_values(ascending=False))[1:].head(3)\n",
    "Rekomendasi_movie"
   ]
  },
  {
   "cell_type": "code",
   "execution_count": 13,
   "metadata": {},
   "outputs": [
    {
     "data": {
      "text/html": [
       "<div>\n",
       "<style scoped>\n",
       "    .dataframe tbody tr th:only-of-type {\n",
       "        vertical-align: middle;\n",
       "    }\n",
       "\n",
       "    .dataframe tbody tr th {\n",
       "        vertical-align: top;\n",
       "    }\n",
       "\n",
       "    .dataframe thead th {\n",
       "        text-align: right;\n",
       "    }\n",
       "</style>\n",
       "<table border=\"1\" class=\"dataframe\">\n",
       "  <thead>\n",
       "    <tr style=\"text-align: right;\">\n",
       "      <th></th>\n",
       "      <th>Frozen 1</th>\n",
       "    </tr>\n",
       "    <tr>\n",
       "      <th>Movie</th>\n",
       "      <th></th>\n",
       "    </tr>\n",
       "  </thead>\n",
       "  <tbody>\n",
       "    <tr>\n",
       "      <th>Incredibles 2</th>\n",
       "      <td>0.998851</td>\n",
       "    </tr>\n",
       "    <tr>\n",
       "      <th>Dora and The Lost City of Gold</th>\n",
       "      <td>0.592134</td>\n",
       "    </tr>\n",
       "    <tr>\n",
       "      <th>Avenger</th>\n",
       "      <td>0.592134</td>\n",
       "    </tr>\n",
       "  </tbody>\n",
       "</table>\n",
       "</div>"
      ],
      "text/plain": [
       "                                Frozen 1\n",
       "Movie                                   \n",
       "Incredibles 2                   0.998851\n",
       "Dora and The Lost City of Gold  0.592134\n",
       "Avenger                         0.592134"
      ]
     },
     "execution_count": 13,
     "metadata": {},
     "output_type": "execute_result"
    }
   ],
   "source": [
    "Rekomendasi_movie=pd.DataFrame(content_based.iloc[:,2].sort_values(ascending=False))[1:].head(3)\n",
    "Rekomendasi_movie"
   ]
  },
  {
   "cell_type": "markdown",
   "metadata": {},
   "source": [
    "### Conclusion"
   ]
  },
  {
   "cell_type": "markdown",
   "metadata": {},
   "source": [
    "* Content based didasarkan pada besarnya korelasi antar film dengan feature. Feature yang digunakan sebagai rekomendasi adalah genre, kode rating, dan jenis film.</br>\n",
    "* Pada project ini, sebagai contoh film yang telah ditonton adalah IT Chapter Two maka film yang direkomendasikan adalah Habibie& Ainun, Gundala, dan The Conjuring"
   ]
  },
  {
   "cell_type": "code",
   "execution_count": null,
   "metadata": {},
   "outputs": [],
   "source": []
  }
 ],
 "metadata": {
  "kernelspec": {
   "display_name": "Python 3",
   "language": "python",
   "name": "python3"
  },
  "language_info": {
   "codemirror_mode": {
    "name": "ipython",
    "version": 3
   },
   "file_extension": ".py",
   "mimetype": "text/x-python",
   "name": "python",
   "nbconvert_exporter": "python",
   "pygments_lexer": "ipython3",
   "version": "3.6.4"
  }
 },
 "nbformat": 4,
 "nbformat_minor": 2
}
