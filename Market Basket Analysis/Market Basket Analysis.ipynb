{
 "cells": [
  {
   "cell_type": "markdown",
   "metadata": {},
   "source": [
    "## Market Basket Analysis Using Apriori"
   ]
  },
  {
   "cell_type": "markdown",
   "metadata": {},
   "source": [
    "**Assosiation rules** digunakan untuk mengidentifikasi hubungan antara berbagai item. Salah satu algoritma yang dapat digunakan saat association rules adalah algoritma apriori. Algoritma apriori sering digunakan untuk mengidentifikasi market basket analysis dimana biasanya terdapat pola saat customer berbelanja. </br>\n",
    "\n",
    "**Algoritma apriori** merupakan algoritma machine learning yang digunakan untuk mengetahui hubungan antara berbagai item yang terlibat dimana output yang dihasilkan adalah rekomendasi produk berdasarkan produk yang telah berada dalam keranjang pengguna.\n",
    "\n",
    "**Daftar isi**:\n",
    "1. Data Preprocessing\n",
    "2. Apriori\n",
    "3. Kesimpulan\n",
    "\n",
    "Menu barang yang disediakan adalah sebagai berikut:\n",
    "![Capture](capture.PNG)"
   ]
  },
  {
   "cell_type": "markdown",
   "metadata": {},
   "source": [
    "### Import Libraries"
   ]
  },
  {
   "cell_type": "code",
   "execution_count": 4,
   "metadata": {},
   "outputs": [
    {
     "name": "stdout",
     "output_type": "stream",
     "text": [
      "Requirement already satisfied: apyori in c:\\programdata\\anaconda3\\lib\\site-packages\n"
     ]
    },
    {
     "name": "stderr",
     "output_type": "stream",
     "text": [
      "You are using pip version 9.0.1, however version 19.2.3 is available.\n",
      "You should consider upgrading via the 'python -m pip install --upgrade pip' command.\n"
     ]
    }
   ],
   "source": [
    "import numpy as np\n",
    "import matplotlib.pyplot as plt\n",
    "import pandas as pd\n",
    "!pip install apyori\n",
    "from apyori import apriori"
   ]
  },
  {
   "cell_type": "markdown",
   "metadata": {},
   "source": [
    "### Import Dataset"
   ]
  },
  {
   "cell_type": "code",
   "execution_count": 5,
   "metadata": {},
   "outputs": [
    {
     "data": {
      "text/html": [
       "<div>\n",
       "<style scoped>\n",
       "    .dataframe tbody tr th:only-of-type {\n",
       "        vertical-align: middle;\n",
       "    }\n",
       "\n",
       "    .dataframe tbody tr th {\n",
       "        vertical-align: top;\n",
       "    }\n",
       "\n",
       "    .dataframe thead th {\n",
       "        text-align: right;\n",
       "    }\n",
       "</style>\n",
       "<table border=\"1\" class=\"dataframe\">\n",
       "  <thead>\n",
       "    <tr style=\"text-align: right;\">\n",
       "      <th></th>\n",
       "      <th>Timestamp</th>\n",
       "      <th>Name</th>\n",
       "      <th>Item 1</th>\n",
       "      <th>Item 2</th>\n",
       "      <th>Item 3</th>\n",
       "    </tr>\n",
       "  </thead>\n",
       "  <tbody>\n",
       "    <tr>\n",
       "      <th>0</th>\n",
       "      <td>2019/09/17 8:58:22 AM GMT+7</td>\n",
       "      <td>Firdaus Adi Nugroho</td>\n",
       "      <td>HP</td>\n",
       "      <td>Racket</td>\n",
       "      <td>Watch</td>\n",
       "    </tr>\n",
       "    <tr>\n",
       "      <th>1</th>\n",
       "      <td>2019/09/17 8:58:24 AM GMT+7</td>\n",
       "      <td>faizah</td>\n",
       "      <td>HP</td>\n",
       "      <td>Camera</td>\n",
       "      <td>Watch</td>\n",
       "    </tr>\n",
       "    <tr>\n",
       "      <th>2</th>\n",
       "      <td>2019/09/17 8:58:30 AM GMT+7</td>\n",
       "      <td>andrem</td>\n",
       "      <td>Watch</td>\n",
       "      <td>Camera</td>\n",
       "      <td>Music Pad</td>\n",
       "    </tr>\n",
       "    <tr>\n",
       "      <th>3</th>\n",
       "      <td>2019/09/17 8:58:30 AM GMT+7</td>\n",
       "      <td>laili</td>\n",
       "      <td>Camera</td>\n",
       "      <td>Watch</td>\n",
       "      <td>Mouse</td>\n",
       "    </tr>\n",
       "    <tr>\n",
       "      <th>4</th>\n",
       "      <td>2019/09/17 8:58:33 AM GMT+7</td>\n",
       "      <td>Tara</td>\n",
       "      <td>HP</td>\n",
       "      <td>Watch</td>\n",
       "      <td>Music Pad</td>\n",
       "    </tr>\n",
       "  </tbody>\n",
       "</table>\n",
       "</div>"
      ],
      "text/plain": [
       "                     Timestamp                 Name  Item 1  Item 2     Item 3\n",
       "0  2019/09/17 8:58:22 AM GMT+7  Firdaus Adi Nugroho      HP  Racket      Watch\n",
       "1  2019/09/17 8:58:24 AM GMT+7               faizah      HP  Camera      Watch\n",
       "2  2019/09/17 8:58:30 AM GMT+7               andrem   Watch  Camera  Music Pad\n",
       "3  2019/09/17 8:58:30 AM GMT+7                laili  Camera   Watch      Mouse\n",
       "4  2019/09/17 8:58:33 AM GMT+7                 Tara      HP   Watch  Music Pad"
      ]
     },
     "execution_count": 5,
     "metadata": {},
     "output_type": "execute_result"
    }
   ],
   "source": [
    "belanja=pd.read_csv('Belanja.csv')\n",
    "belanja.head()"
   ]
  },
  {
   "cell_type": "markdown",
   "metadata": {},
   "source": [
    "**menghapus variabel timestamp dan name :**"
   ]
  },
  {
   "cell_type": "code",
   "execution_count": 6,
   "metadata": {},
   "outputs": [],
   "source": [
    "belanja1=belanja.drop(['Timestamp','Name'],axis=1)"
   ]
  },
  {
   "cell_type": "markdown",
   "metadata": {},
   "source": [
    "### Data Preprocessing\n",
    "\n",
    "Library Apriori menggunakan dataset dengan berbentuk list dimana keseluruhan dataset merupakan list dari transaksi barang yang akan dibeli sehingga perlu merubah bentuk data dari data frame menjadi list."
   ]
  },
  {
   "cell_type": "code",
   "execution_count": 7,
   "metadata": {},
   "outputs": [],
   "source": [
    "records=[]\n",
    "for i in range(0, 23):\n",
    "    records.append([str(belanja1.values[i,j]) for j in range (0,3)])"
   ]
  },
  {
   "cell_type": "code",
   "execution_count": 8,
   "metadata": {},
   "outputs": [
    {
     "data": {
      "text/plain": [
       "[['HP', 'Racket', 'Watch'],\n",
       " ['HP', 'Camera', 'Watch'],\n",
       " ['Watch', 'Camera', 'Music Pad'],\n",
       " ['Camera', 'Watch', 'Mouse'],\n",
       " ['HP', 'Watch', 'Music Pad'],\n",
       " ['Watch', 'Racket', 'Camera'],\n",
       " ['HP', 'Camera', 'Watch'],\n",
       " ['Watch', 'Camera', 'Music Pad'],\n",
       " ['Racket', 'Soap', 'Guitar'],\n",
       " ['Racket', 'Camera', 'Guitar'],\n",
       " ['Camera', 'Bag', 'nan'],\n",
       " ['Music Pad', 'Guitar', 'Camera'],\n",
       " ['Camera', 'Watch', 'nan'],\n",
       " ['Guitar', 'Camera', 'Music Pad'],\n",
       " ['Camera', 'Watch', 'Music Pad'],\n",
       " ['Camera', 'Racket', 'Guitar'],\n",
       " ['Guitar', 'Camera', 'Watch'],\n",
       " ['Guitar', 'Watch', 'nan'],\n",
       " ['Camera', 'Watch', 'nan'],\n",
       " ['Soap', 'Bag', 'Guitar'],\n",
       " ['Router', 'Bag', 'nan'],\n",
       " ['Watch', 'Racket', 'Soap'],\n",
       " ['Music Pad', 'Soap', 'Watch']]"
      ]
     },
     "execution_count": 8,
     "metadata": {},
     "output_type": "execute_result"
    }
   ],
   "source": [
    "records"
   ]
  },
  {
   "cell_type": "markdown",
   "metadata": {},
   "source": [
    "### Applying Apriori\n",
    "\n",
    "Parameter yang digunakan pada apriori :<br>\n",
    "1. Min_support\n",
    "2. Min_confidence\n",
    "3. Min_lift\n",
    "4. Min_length (jumlah minimum item yang Anda inginkan dalam aturan)"
   ]
  },
  {
   "cell_type": "code",
   "execution_count": 21,
   "metadata": {},
   "outputs": [
    {
     "data": {
      "text/plain": [
       "[RelationRecord(items=frozenset({'Guitar', 'Racket'}), support=0.13043478260869565, ordered_statistics=[OrderedStatistic(items_base=frozenset({'Guitar'}), items_add=frozenset({'Racket'}), confidence=0.375, lift=1.4375), OrderedStatistic(items_base=frozenset({'Racket'}), items_add=frozenset({'Guitar'}), confidence=0.5, lift=1.4375)]),\n",
       " RelationRecord(items=frozenset({'Watch', 'HP'}), support=0.17391304347826086, ordered_statistics=[OrderedStatistic(items_base=frozenset({'HP'}), items_add=frozenset({'Watch'}), confidence=1.0, lift=1.5333333333333332), OrderedStatistic(items_base=frozenset({'Watch'}), items_add=frozenset({'HP'}), confidence=0.26666666666666666, lift=1.5333333333333334)])]"
      ]
     },
     "execution_count": 21,
     "metadata": {},
     "output_type": "execute_result"
    }
   ],
   "source": [
    "association_rules=apriori(records, min_supports=0.05,min_confidence=0.05, min_lift=1.2)\n",
    "association_results=list(association_rules)\n",
    "association_results"
   ]
  },
  {
   "cell_type": "markdown",
   "metadata": {},
   "source": [
    "**Tiga komponen utama pada algoritma apriori:** <br>\n",
    "**1. Support : ** Seberapa sering itemset muncul dalam dataset. <br>\n",
    "**2. Lift : ** Peningkatan rasio penjualan item B ketika A terjual <br>\n",
    "**3. Confidence : ** Kemungkinan barang B juga dibeli jika barang A dibeli"
   ]
  },
  {
   "cell_type": "code",
   "execution_count": 22,
   "metadata": {},
   "outputs": [
    {
     "name": "stdout",
     "output_type": "stream",
     "text": [
      "  Barang1 Barang2  Support Confidence     Lift\n",
      "0  Guitar  Racket  0.13043      0.375   1.4375\n",
      "1   Watch      HP  0.17391        1.0  1.53333\n"
     ]
    }
   ],
   "source": [
    "results=[]\n",
    "for item in association_results:\n",
    "\n",
    "    pair = item[0] \n",
    "    items = [x for x in pair]\n",
    "    \n",
    "    value0=str(items[0])\n",
    "    value1=str(items[1])\n",
    "    value2=str(item[1])[:7]\n",
    "    value3=str(item[2][0][2])[:7]\n",
    "    value4=str(item[2][0][3])[:7]\n",
    "    \n",
    "    rows=(value0, value1, value2, value3, value4)\n",
    "    results.append(rows)\n",
    "    \n",
    "labels=['Barang1', 'Barang2','Support','Confidence','Lift' ]\n",
    "belanja_suggestion=pd.DataFrame.from_records(results, columns=labels)\n",
    "\n",
    "print(belanja_suggestion)"
   ]
  },
  {
   "cell_type": "markdown",
   "metadata": {},
   "source": [
    "### Kesimpulan"
   ]
  },
  {
   "cell_type": "markdown",
   "metadata": {},
   "source": [
    "Dengan menggunakan batas minimal : <br>\n",
    "**supports** =0.05 <br>\n",
    "**confidence** =0.05 <br>\n",
    "**lift**=1.2 </br>\n",
    "\n",
    "Didapatkan hasil bahwa support paling tinggi adalah antara watch dan HP. Sehingga kemungkinan orang membeli HP lalu membeli watch adalah 100%.\n"
   ]
  },
  {
   "cell_type": "code",
   "execution_count": null,
   "metadata": {},
   "outputs": [],
   "source": []
  }
 ],
 "metadata": {
  "kernelspec": {
   "display_name": "Python 3",
   "language": "python",
   "name": "python3"
  },
  "language_info": {
   "codemirror_mode": {
    "name": "ipython",
    "version": 3
   },
   "file_extension": ".py",
   "mimetype": "text/x-python",
   "name": "python",
   "nbconvert_exporter": "python",
   "pygments_lexer": "ipython3",
   "version": "3.6.4"
  }
 },
 "nbformat": 4,
 "nbformat_minor": 2
}
