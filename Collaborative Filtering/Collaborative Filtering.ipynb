{
 "cells": [
  {
   "cell_type": "markdown",
   "metadata": {},
   "source": [
    "## Collaborative Filtering"
   ]
  },
  {
   "cell_type": "markdown",
   "metadata": {},
   "source": [
    "Collaborative filtering merupakan teknik yang digunakan untuk memberikan rekomendasi mengenai minat pengguna dengan mengumpulkan preferensi atau informasi dari pengguna lainnya (kolaborasi). </br>\n",
    "\n",
    "Pada project ini, rekomendasi yang akan diberikan adalah **rekomendasi film kepada seseorang berdasarkan review yang diberikan oleh pengguna lainnya**. Data yang digunakan pada project ini merupakan data mengenai 10 film yakni :\n",
    "1. Ada Apa dengan Cinta 2\n",
    "2. Gundala\n",
    "3. Dilan 1991\n",
    "4. Bumi Manusia\n",
    "5. Dua Garis Biru\n",
    "6. Avengers: End Game\n",
    "7. The Lion King\n",
    "8. Aladdin\n",
    "9. Spiderman: Far From Home\n",
    "10. Captain Marvel </br>\n",
    "\n",
    "Jumlah pengguna yang digunakan pada project ini adalah 24 pengguna. Masing-masing pengguna memberikan rating terhadap film yang telah ditonton dengan memberikan rate mulai 1-5. Jika pengguna belum menonton film tersebut maka pengguna tidak memberikan rating terhadap film tersebut sehingga selanjutnya akan diberikan rekomendasi berdasarkan review dari pengguna lainnya."
   ]
  },
  {
   "cell_type": "markdown",
   "metadata": {},
   "source": [
    "**Import Libraries**"
   ]
  },
  {
   "cell_type": "code",
   "execution_count": 45,
   "metadata": {},
   "outputs": [],
   "source": [
    "from math import sqrt\n",
    "import pandas as pd\n",
    "import numpy as np"
   ]
  },
  {
   "cell_type": "markdown",
   "metadata": {},
   "source": [
    "Data yang digunakan berbentuk JSON sehingga dataset yang ada pada data ratingfilm akan diimpor untuk memudahkan analisis"
   ]
  },
  {
   "cell_type": "code",
   "execution_count": 46,
   "metadata": {},
   "outputs": [],
   "source": [
    "from ratingfilm import dataset"
   ]
  },
  {
   "cell_type": "markdown",
   "metadata": {},
   "source": [
    "### Similarity Score\n",
    "\n",
    "Similarity score digunakan untuk mengetahui kemiripan antara dua item. Jika nilai kemiripannya mendekati 1 maka antar kedua item memiliki kemiripan, sedangkan jika nilai kemiripannya mendekati angka 0 maka antar kedua item tidak memiliki kemiripan."
   ]
  },
  {
   "cell_type": "code",
   "execution_count": 47,
   "metadata": {},
   "outputs": [],
   "source": [
    "def similarity_score(person1,person2):\n",
    "\n",
    "    # Melihat jarak euclidean antara person 1 dan 2\n",
    "\n",
    "    # Untuk mendapatkan penilaian item dari person 1 dan 2\n",
    "    both_viewed = {}\n",
    "\n",
    "    for item in dataset[person1]:\n",
    "        if item in dataset[person2]:\n",
    "            both_viewed[item] = 1\n",
    "        \n",
    "        # Keadaan ketika mereka memiliki kesamaan rating \n",
    "        if len(both_viewed) == 0:\n",
    "            return 0\n",
    "\n",
    "        # Menghitung jarak euclidean\n",
    "        sum_of_eclidean_distance = []\n",
    "\n",
    "        for item in dataset[person1]:\n",
    "            if item in dataset[person2]:\n",
    "                sum_of_eclidean_distance.append(pow(dataset[person1][item] - dataset[person2][item], 2))\n",
    "        sum_of_eclidean_distance = sum(sum_of_eclidean_distance)\n",
    "        \n",
    "        return 1/(1+sqrt(sum_of_eclidean_distance))"
   ]
  },
  {
   "cell_type": "markdown",
   "metadata": {},
   "source": [
    "Pada project ini akan mencari rekomendasi film untuk Rima. Sehingga akan dilakukan perhitungan kemiripan item dengan pengguna lainnya yakni Jawaharal."
   ]
  },
  {
   "cell_type": "code",
   "execution_count": 48,
   "metadata": {},
   "outputs": [
    {
     "name": "stdout",
     "output_type": "stream",
     "text": [
      "0.14459058185587106\n"
     ]
    }
   ],
   "source": [
    "print(similarity_score('Rima','Jawaharal'))"
   ]
  },
  {
   "cell_type": "markdown",
   "metadata": {},
   "source": [
    "Kesamaan antara Rima dan Jawaharal dalam memberikan rating pada setiap film adalah 0.145, hal ini menunjukkan bahwa **antara Rima dan Jawaharal tidak memiliki kemiripan dalam memberikan penilaian terhadap rating pada film.**"
   ]
  },
  {
   "cell_type": "markdown",
   "metadata": {},
   "source": [
    "### Person Correlation\n",
    "\n",
    "Person correlation menunjukkan apakah antar user memiliki kesamaan selera film atau tidak.Nilai person correlation berkisar antara -1 hingga 1 dimana korelasi person -1 menunjukkan bahwa antar kedua user memiliki selera film yang bertolak belakang sedangkan jika korelasi person 1 menunjukkan kedua user memiliki selera film yang sama"
   ]
  },
  {
   "cell_type": "code",
   "execution_count": 49,
   "metadata": {},
   "outputs": [],
   "source": [
    "def person_correlation(person1, person2):\n",
    "\n",
    "   # Mendapatkan item yang akan dinilai\n",
    "    both_rated = {}\n",
    "    for item in dataset[person1]:\n",
    "        if item in dataset[person2]:\n",
    "            both_rated[item] = 1\n",
    "\n",
    "    number_of_ratings = len(both_rated)\n",
    "\n",
    "    # Mengecek Kesamaan Rating\n",
    "    if number_of_ratings == 0:\n",
    "        return 0\n",
    "\n",
    "    # Menambahkan preferensi semua user\n",
    "    person1_preferences_sum = sum([dataset[person1][item] for item in both_rated])\n",
    "    person2_preferences_sum = sum([dataset[person2][item] for item in both_rated])\n",
    "\n",
    "    #Menjumlahkan hasil kuadrat dari preferensi semua user \n",
    "    person1_square_preferences_sum = sum([pow(dataset[person1][item],2) for item in both_rated])\n",
    "    person2_square_preferences_sum = sum([pow(dataset[person2][item],2) for item in both_rated])\n",
    "\n",
    "    # Menjumlahkan hasil kali dari preferensi masing-masing item\n",
    "    product_sum_of_both_users = sum([dataset[person1][item] * dataset[person2][item] for item in both_rated])\n",
    "\n",
    "    # Menghitung nilai pearson\n",
    "    numerator_value = product_sum_of_both_users - (person1_preferences_sum*person2_preferences_sum/number_of_ratings)\n",
    "    denominator_value = sqrt((person1_square_preferences_sum - pow(person1_preferences_sum,2)/number_of_ratings) * (person2_square_preferences_sum -pow(person2_preferences_sum,2)/number_of_ratings))\n",
    "\n",
    "    if denominator_value == 0:\n",
    "        return 0\n",
    "    else:\n",
    "        r = numerator_value / denominator_value\n",
    "        return r"
   ]
  },
  {
   "cell_type": "code",
   "execution_count": 50,
   "metadata": {},
   "outputs": [
    {
     "data": {
      "text/plain": [
       "0.5915747820033221"
      ]
     },
     "execution_count": 50,
     "metadata": {},
     "output_type": "execute_result"
    }
   ],
   "source": [
    "person_correlation('Dpv', 'luck')"
   ]
  },
  {
   "cell_type": "markdown",
   "metadata": {},
   "source": [
    "nilai person correlation antara Rima dan Jawaharal menunjukkan nilai 0.77 dimana hal ini menunjukkan bahwa **Dpv dan luck memiliki kesamaan dalam selera film.** dikarenakan nilai person correlation telah berada diatas 0,5"
   ]
  },
  {
   "cell_type": "markdown",
   "metadata": {},
   "source": [
    "### Most Similar User\n",
    "\n",
    "Most similar user menunjukkan urutan antara satu user dengan semua user dan diurutkan dari kesamaan selera film yang tertinggi"
   ]
  },
  {
   "cell_type": "code",
   "execution_count": 51,
   "metadata": {},
   "outputs": [],
   "source": [
    "def most_similar_users(person, number_of_users):\n",
    "\n",
    "    # returns the number_of_users (similar persons) for a given specific person\n",
    "    scores = [(person_correlation(person, other_person), other_person) for other_person in dataset if other_person != person]\n",
    "\n",
    "    # Sort the similar persons so the highest scores person will appear at the first\n",
    "    scores.sort()\n",
    "    scores.reverse()\n",
    "    return scores[0:number_of_users]"
   ]
  },
  {
   "cell_type": "code",
   "execution_count": 52,
   "metadata": {},
   "outputs": [
    {
     "name": "stdout",
     "output_type": "stream",
     "text": [
      "[(0.7293051654988714, 'Rima'), (0.7165918706113663, 'Genjeh'), (0.7165918706113663, 'Febi ganteng gak ada obat'), (0.6220880993971143, 'Damar Teman Firli'), (0.5915747820033221, 'luck'), (0.583111187267418, 'Putrisqiana'), (0.5053114692007453, 'OM INDRA'), (0.4691808711301112, 'AhokTemanFirli'), (0.4378206416626331, 'Nonton_Saat_Diskon'), (0.36714408087207806, 'Romantika'), (0.2875397711492321, 'bunga'), (0.20908664397176108, 'Topik Zulkarnain'), (0.17277368511627203, 'Indra 1991 SM'), (0.1417910447761193, 'Star'), (0.12242264554887113, 'Jawaharal'), (0.10246640853342608, 'Mulya'), (0.0816602150356523, 'ANI'), (0.05120571267041111, 'Indra Junior'), (-0.03042374952996796, 'faizah'), (-0.04319342127906763, 'franadek'), (-0.05655346358155575, 'jul'), (-0.10538115744284798, 'Hania'), (-0.6000952607769756, 'Maria O.')]\n"
     ]
    }
   ],
   "source": [
    "print(most_similar_users('Dpv', 23))"
   ]
  },
  {
   "cell_type": "markdown",
   "metadata": {},
   "source": [
    "Dari most similarity user diketahui jika **Dpv memiliki kesamaan selera film paling dekat dengan Rima.**"
   ]
  },
  {
   "cell_type": "markdown",
   "metadata": {},
   "source": [
    "### Rekomendasi Film untuk Dpv"
   ]
  },
  {
   "cell_type": "code",
   "execution_count": 53,
   "metadata": {},
   "outputs": [],
   "source": [
    "def user_recommendations(person):\n",
    "\n",
    "    # Gets recommendations for a person by using a weighted average of every other user's rankings\n",
    "    totals = {}\n",
    "    simSums = {}\n",
    "    rankings_list =[]\n",
    "    for other in dataset:\n",
    "        # don't compare me to myself\n",
    "        if other == person:\n",
    "            continue\n",
    "        sim = person_correlation(person,other)\n",
    "        #print \">>>>>>>\",sim\n",
    "\n",
    "        # ignore scores of zero or lower\n",
    "        if sim <=0: \n",
    "            continue\n",
    "        for item in dataset[other]:\n",
    "\n",
    "            # only score movies i haven't seen yet\n",
    "            if item not in dataset[person] or dataset[person][item] == 0:\n",
    "\n",
    "            # Similrity * score\n",
    "                totals.setdefault(item,0)\n",
    "                totals[item] += dataset[other][item]* sim\n",
    "                # sum of similarities\n",
    "                simSums.setdefault(item,0)\n",
    "                simSums[item]+= sim\n",
    "\n",
    "        # Create the normalized list\n",
    "\n",
    "    rankings = [(total/simSums[item],item) for item,total in totals.items()]\n",
    "    rankings.sort()\n",
    "    rankings.reverse()\n",
    "    # returns the recommended items\n",
    "    recommendataions_list = [recommend_item for score,recommend_item in rankings]\n",
    "    return recommendataions_list"
   ]
  },
  {
   "cell_type": "code",
   "execution_count": 54,
   "metadata": {},
   "outputs": [
    {
     "name": "stdout",
     "output_type": "stream",
     "text": [
      "['Aladdin', 'The Lion King', 'Dua Garis Biru', 'Bumi Manusia']\n"
     ]
    }
   ],
   "source": [
    "print(user_recommendations('Dpv'))"
   ]
  },
  {
   "cell_type": "markdown",
   "metadata": {},
   "source": [
    "### Conclusion"
   ]
  },
  {
   "cell_type": "markdown",
   "metadata": {},
   "source": [
    "Dengan menggunakan collaborative filtering didapatkan hasil :\n",
    "* Dpv memiliki kesamaan selera film paling dekat dengan Rima\n",
    "* Film yang direkomendasikan untuk Devita berdasarkan review yang diberikan oleh Pengguna lain berturut-turut adalah :\n",
    "    1. Aladdin\n",
    "    2. The Lion King\n",
    "    3. Dua Garis Biru\n",
    "    4. Bumi Manusia"
   ]
  },
  {
   "cell_type": "code",
   "execution_count": null,
   "metadata": {},
   "outputs": [],
   "source": []
  }
 ],
 "metadata": {
  "kernelspec": {
   "display_name": "Python 3",
   "language": "python",
   "name": "python3"
  },
  "language_info": {
   "codemirror_mode": {
    "name": "ipython",
    "version": 3
   },
   "file_extension": ".py",
   "mimetype": "text/x-python",
   "name": "python",
   "nbconvert_exporter": "python",
   "pygments_lexer": "ipython3",
   "version": "3.6.4"
  }
 },
 "nbformat": 4,
 "nbformat_minor": 2
}
